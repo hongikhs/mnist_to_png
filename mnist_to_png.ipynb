{
 "cells": [
  {
   "cell_type": "code",
   "execution_count": 3,
   "metadata": {},
   "outputs": [],
   "source": [
    "import numpy as np\n",
    "import png"
   ]
  },
  {
   "cell_type": "code",
   "execution_count": 12,
   "metadata": {},
   "outputs": [],
   "source": [
    "mnist_file = 'mnist_test'\n",
    "mnist = np.loadtxt(mnist_file + '.csv', delimiter=',', encoding='utf-8', dtype='int64')"
   ]
  },
  {
   "cell_type": "code",
   "execution_count": 14,
   "metadata": {},
   "outputs": [],
   "source": [
    "fnum = 1\n",
    "for row in mnist:\n",
    "    label = row[0]\n",
    "    image = row[1:]\n",
    "    f = open(mnist_file + '\\\\' + str(label) + '\\\\' + str(fnum) + '.png', 'wb')\n",
    "    w = png.Writer(28, 28, greyscale=True)\n",
    "    image2d = (255-image).reshape((28, 28)).tolist()\n",
    "    w.write(f, image2d)\n",
    "    f.close()\n",
    "    fnum += 1"
   ]
  },
  {
   "cell_type": "code",
   "execution_count": null,
   "metadata": {},
   "outputs": [],
   "source": []
  }
 ],
 "metadata": {
  "kernelspec": {
   "display_name": "Python 3",
   "language": "python",
   "name": "python3"
  },
  "language_info": {
   "codemirror_mode": {
    "name": "ipython",
    "version": 3
   },
   "file_extension": ".py",
   "mimetype": "text/x-python",
   "name": "python",
   "nbconvert_exporter": "python",
   "pygments_lexer": "ipython3",
   "version": "3.7.9"
  }
 },
 "nbformat": 4,
 "nbformat_minor": 4
}
